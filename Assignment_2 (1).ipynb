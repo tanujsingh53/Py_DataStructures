{
  "nbformat": 4,
  "nbformat_minor": 0,
  "metadata": {
    "colab": {
      "provenance": []
    },
    "kernelspec": {
      "name": "python3",
      "display_name": "Python 3"
    },
    "language_info": {
      "name": "python"
    }
  },
  "cells": [
    {
      "cell_type": "markdown",
      "source": [
        "**Q1:** What are data structures, and why are they important?\n",
        "\n",
        "- Data structures are specialized formats for organizing, processing, and storing data. They define the way data is arranged in memory so that it can be accessed and manipulated efficiently. Different types of data structures are used based on the needs of a specific application, allowing for efficient data storage and retrieval.\n",
        "\n",
        "\n",
        "\n",
        "*   Arrays\n",
        "*   Lists\n",
        "*   Stacks\n",
        "*   Queues\n",
        "*   Trees\n",
        "*   Graphs\n",
        "*   Hash Tables\n",
        "*   Sets\n",
        "\n",
        "- Importance of Data Structures\n",
        "*   Efficiency in Data Operations\n",
        "*   Optimizing Space and Time Complexity\n",
        "*   Problem-Solving and Algorithms\n",
        "*   Real-World Applications\n",
        "*   Scalability\n",
        "\n"
      ],
      "metadata": {
        "id": "CtpJbBoQ_SgV"
      }
    },
    {
      "cell_type": "markdown",
      "source": [
        "**Q2:** Explain the difference between mutable and immutable data types with examples.\n",
        "\n",
        "1. Mutable vs Immutable Data Types:\n",
        "    Mutable data types are those whose values can be changed (modified) after the object is created. The content of the object can be altered, but the identity of the object remains the same.\n",
        "\n",
        "  Examples of Mutable Data Types:\n",
        "  *   Lists\n",
        "\n",
        "\n"
      ],
      "metadata": {
        "id": "uLMeOtNiAuFy"
      }
    },
    {
      "cell_type": "code",
      "source": [
        "my_list = [1, 2, 3]\n",
        "print(my_list)\n",
        "\n",
        "# Modifying an element in the list\n",
        "my_list[1] = 10\n",
        "print(my_list)\n",
        "\n",
        "# Adding a new element\n",
        "my_list.append(4)\n",
        "print(my_list)"
      ],
      "metadata": {
        "id": "-XMfOUxYBOxV"
      },
      "execution_count": null,
      "outputs": []
    },
    {
      "cell_type": "markdown",
      "source": [
        "\n",
        "\n",
        "*   Dictionaries\n",
        "\n",
        "\n"
      ],
      "metadata": {
        "id": "RpIhcjG_BcXa"
      }
    },
    {
      "cell_type": "code",
      "source": [
        "\n",
        "\n",
        "my_dict = {\"apple\": 3, \"banana\": 5}\n",
        "print(my_dict)\n",
        "\n",
        "# Modifying an existing value\n",
        "my_dict[\"apple\"] = 10\n",
        "print(my_dict)\n",
        "\n",
        "# Adding a new key-value pair\n",
        "my_dict[\"cherry\"] = 7\n",
        "print(my_dict)"
      ],
      "metadata": {
        "id": "B06HldkLBcw6"
      },
      "execution_count": null,
      "outputs": []
    },
    {
      "cell_type": "markdown",
      "source": [
        "2. Immutable Data Types:\n",
        "    Immutable data types are those whose values cannot be changed once they are created. Any modification to an immutable object results in the creation of a new object, while the original object remains unchanged.\n",
        "\n",
        "  - Examples of Immutable Data Types:\n",
        "    *   Tuples"
      ],
      "metadata": {
        "id": "p_3rCLXhBzax"
      }
    },
    {
      "cell_type": "code",
      "source": [
        "my_tuple = (1, 2, 3)\n",
        "print(my_tuple)  # Output: (1, 2, 3)\n",
        "\n",
        "# Trying to modify an element will raise an error\n",
        "# my_tuple[1] = 10  # Raises TypeError\n",
        "\n",
        "# However, you can create a new tuple by concatenating or reassigning\n",
        "new_tuple = my_tuple + (4,)\n",
        "print(new_tuple)"
      ],
      "metadata": {
        "colab": {
          "base_uri": "https://localhost:8080/"
        },
        "id": "ddqP8h-XCRAN",
        "outputId": "fc5c2fd6-666f-4979-da75-060c75d2be50"
      },
      "execution_count": 1,
      "outputs": [
        {
          "output_type": "stream",
          "name": "stdout",
          "text": [
            "(1, 2, 3)\n",
            "(1, 2, 3, 4)\n"
          ]
        }
      ]
    },
    {
      "cell_type": "markdown",
      "source": [
        "\n",
        "\n",
        "    *   Strings\n",
        "\n"
      ],
      "metadata": {
        "id": "R0LBYrPWCekB"
      }
    },
    {
      "cell_type": "code",
      "source": [
        "my_string = \"Hey\"\n",
        "print(my_string)  # Output: hello\n",
        "\n",
        "# Trying to modify a character will raise an error\n",
        "# my_string[0] = \"H\"  # Raises TypeError\n",
        "\n",
        "# But you can create a new string by concatenating\n",
        "new_string = \"H\" + my_string[1:]\n",
        "print(new_string)"
      ],
      "metadata": {
        "colab": {
          "base_uri": "https://localhost:8080/"
        },
        "id": "yvONmlrzClDJ",
        "outputId": "1f8af510-4875-4ca5-d8a2-358f6bed9799"
      },
      "execution_count": 2,
      "outputs": [
        {
          "output_type": "stream",
          "name": "stdout",
          "text": [
            "Hey\n",
            "Hey\n"
          ]
        }
      ]
    },
    {
      "cell_type": "markdown",
      "source": [
        "**Q3:** What are the main differences between lists and tuples in Python?\n",
        "\n",
        "- Lists:\n",
        "\n",
        "Mutable: Can be changed (add, remove, modify elements).\n",
        "\n",
        "Syntax: []\n",
        "\n",
        "Methods: More methods like append(), remove(), etc.\n",
        "\n",
        "Use: When data needs to change (e.g., dynamic collections).\n",
        "\n",
        "- Tuples:\n",
        "\n",
        "Immutable: Cannot be changed once created.\n",
        "\n",
        "Syntax: ()\n",
        "\n",
        "Methods: Fewer methods, mainly count() and index().\n",
        "\n",
        "Use: When data should remain constant (e.g., fixed values, dictionary keys).\n",
        "\n",
        "***Key Difference:***\n",
        "Lists are for changeable data, while tuples are for fixed, constant data."
      ],
      "metadata": {
        "id": "1jqZpBNpC-0i"
      }
    },
    {
      "cell_type": "markdown",
      "source": [
        "**Q4:** Describe how dictionaries store data.\n",
        "\n",
        "-  Structure: Dictionaries store data as key-value pairs.\n",
        "\n",
        "- Keys: Must be unique and immutable (e.g., strings, numbers).\n",
        "\n",
        "- Values: Can be any data type (mutable or immutable).\n",
        "\n",
        "- Hashing: Keys are hashed to allow fast lookups and access (average O(1) time complexity).\n",
        "\n",
        "- Mutable: You can add, modify, or remove key-value pairs.\n",
        "\n",
        "- Unordered: Keys are not stored in any specific order (though insertion order is maintained in Python 3.7+)."
      ],
      "metadata": {
        "id": "q7YKlFHTDbTw"
      }
    },
    {
      "cell_type": "code",
      "source": [
        "my_dict = {\"name\": \"Alice\", \"age\": 30}"
      ],
      "metadata": {
        "id": "8A19Efs1D2FR"
      },
      "execution_count": 3,
      "outputs": []
    },
    {
      "cell_type": "markdown",
      "source": [
        "**Q5:** Why might you use a set instead of a list in Python?\n",
        "\n",
        "- Uniqueness: Sets automatically store only unique elements, eliminating duplicates.\n",
        "\n",
        "- Faster Lookup: Sets provide faster membership tests (e.g., checking if an element exists) compared to lists due to their hashing mechanism.\n",
        "\n",
        "- Mathematical Operations: Sets support set operations like union, intersection, and difference, which can be useful for certain algorithms.\n",
        "\n",
        "- Order: Sets are unordered, meaning the order of elements is not preserved, but this can be useful when order doesn't matter.\n",
        "\n",
        "\n",
        "\n",
        "*   When you need unique elements.\n",
        "*   When fast membership checks are important.\n",
        "*   When performing set operations like union or intersection."
      ],
      "metadata": {
        "id": "uZYSPB1dD3pA"
      }
    },
    {
      "cell_type": "markdown",
      "source": [
        "**Q6:** What is a string in Python, and how is it different from a list?\n",
        "\n",
        "- String in Python:\n",
        "A string is a sequence of characters enclosed in single (') or double (\") quotes.\n",
        "\n",
        "Example: \"Hello, World!\"\n",
        "\n",
        "Difference Between a String and a List:\n",
        "Mutability:\n",
        "\n",
        "String: Immutable — You cannot modify individual characters in a string.\n",
        "\n",
        "List: Mutable — You can modify, add, or remove elements in a list.\n",
        "\n",
        "Data Type:\n",
        "\n",
        "String: Holds a sequence of characters (text).\n",
        "\n",
        "List: Can hold a mix of different data types (e.g., integers, strings, objects).\n",
        "\n",
        "- Operations:\n",
        "\n",
        "String: Supports operations like slicing and concatenation, but no modifications.\n",
        "\n",
        "List: Supports operations like adding/removing items, sorting, and more."
      ],
      "metadata": {
        "id": "OlDmnCXfEfSQ"
      }
    },
    {
      "cell_type": "code",
      "source": [
        "# String\n",
        "my_string = \"Hey\"\n",
        "\n",
        "# List\n",
        "my_list = [2, 4, 6]"
      ],
      "metadata": {
        "id": "_CGEmfUIEyb5"
      },
      "execution_count": null,
      "outputs": []
    },
    {
      "cell_type": "markdown",
      "source": [
        "**Q7:** How do tuples ensure data integrity in Python?\n",
        "\n",
        "- Immutability:\n",
        "\n",
        "Once created, tuples cannot be modified. This means that the data inside a tuple cannot be changed, ensuring that the data remains consistent and unaltered.\n",
        "\n",
        "Hashable:\n",
        "\n",
        "Because tuples are immutable, they can be used as keys in dictionaries and elements in sets, which requires hashability. This prevents accidental modification of data.\n",
        "\n",
        "- Data Integrity:\n",
        "\n",
        "The immutability of tuples ensures that their contents stay intact throughout the program, preventing accidental changes to critical data."
      ],
      "metadata": {
        "id": "uvCj-JIEE7XR"
      }
    },
    {
      "cell_type": "code",
      "source": [
        "my_tuple = (1, 2, 3)\n",
        "# You cannot do this:\n",
        "my_tuple[1] = 10  # This will raise an error."
      ],
      "metadata": {
        "id": "41VEQKwyFR_w"
      },
      "execution_count": 8,
      "outputs": []
    },
    {
      "cell_type": "markdown",
      "source": [
        "**Q8:** What is a hash table, and how does it relate to dictionaries in Python?\n",
        "\n",
        "- Hash Table:\n",
        "A hash table is a data structure that stores key-value pairs using a hash function to compute an index (hash) where the value associated with the key is stored.\n",
        "\n",
        "It allows for fast retrieval of values based on keys (average O(1) time complexity).\n",
        "\n",
        "- Relation to Python Dictionaries:\n",
        "Python dictionaries are implemented using hash tables.\n",
        "\n",
        "When you use a key in a dictionary, Python computes its hash to quickly find and store the corresponding value.\n",
        "\n",
        "The keys in dictionaries must be hashable (e.g., immutable types like strings or tuples)."
      ],
      "metadata": {
        "id": "IsJQ8rf8Ff-p"
      }
    },
    {
      "cell_type": "code",
      "source": [
        "my_dict = {\"name\": \"Joey\", \"age\": 31}"
      ],
      "metadata": {
        "id": "i5DW19XgFz6L"
      },
      "execution_count": null,
      "outputs": []
    },
    {
      "cell_type": "markdown",
      "source": [
        "**Q9:** Can lists contain different data types in Python?\n",
        "\n",
        "- Lists are heterogeneous, meaning they can hold elements of different types (e.g., integers, strings, floats, etc.)."
      ],
      "metadata": {
        "id": "ymcZSNjrF7aq"
      }
    },
    {
      "cell_type": "code",
      "source": [
        "my_list = [1, \"Hello\", 3.14, True]"
      ],
      "metadata": {
        "id": "51wXxRmZGUXq"
      },
      "execution_count": null,
      "outputs": []
    },
    {
      "cell_type": "markdown",
      "source": [
        "**Q10:** Explain why strings are immutable in Python.\n",
        "\n",
        "- Strings are immutable in Python to ensure:\n",
        "\n",
        "    Data integrity: Once created, the content can't be changed.\n",
        "\n",
        "    Efficiency: Immutable objects are easier to optimize and cache.\n",
        "\n",
        "    Safety: Prevents unexpected changes when shared across code.\n",
        "    "
      ],
      "metadata": {
        "id": "trPPRheQGW_R"
      }
    },
    {
      "cell_type": "code",
      "source": [
        "text = \"hello\""
      ],
      "metadata": {
        "id": "qgHdVVkbGmQK"
      },
      "execution_count": null,
      "outputs": []
    },
    {
      "cell_type": "markdown",
      "source": [
        "**Q11:** What advantages do dictionaries offer over lists for certain tasks?\n",
        "\n",
        "- Advantages of Dictionaries over Lists (In Short):\n",
        "Faster lookups: Access values by keys in O(1) time.\n",
        "\n",
        "Key-value pairing: Ideal for structured data (e.g., names and scores).\n",
        "\n",
        "Improved readability: Keys make data more meaningful than index positions."
      ],
      "metadata": {
        "id": "vlQz91_jGpS7"
      }
    },
    {
      "cell_type": "code",
      "source": [
        "# Dictionary\n",
        "friends = {\"name\": \"Joey\", \"age\": 31}\n",
        "\n",
        "# List (less clear)\n",
        "friends_list = [\"Joey\", 31]"
      ],
      "metadata": {
        "id": "CghYdC5FG6vo"
      },
      "execution_count": null,
      "outputs": []
    },
    {
      "cell_type": "markdown",
      "source": [
        "**Q12:** Describe a scenario where using a tuple would be preferable over a list.\n",
        "\n",
        "-  A tuple is preferable when you want to store fixed, read-only data that shouldn't be changed during the program's execution.\n",
        "\n",
        "dob = (1990, 5, 12)\n",
        "\n",
        "\n",
        "*   A date of birth doesn’t change, so using a tuple ensures data integrity."
      ],
      "metadata": {
        "id": "RB0faW5MHNSp"
      }
    },
    {
      "cell_type": "markdown",
      "source": [
        "**Q13:** How do sets handle duplicate values in Python?\n",
        "\n",
        "- Sets automatically remove duplicates.\n",
        "They only store unique elements — if you add duplicates, they are ignored."
      ],
      "metadata": {
        "id": "kDjlXTsIHmEB"
      }
    },
    {
      "cell_type": "code",
      "source": [
        "my_set = {1, 2, 2, 3, 3, 3}\n",
        "print(my_set)"
      ],
      "metadata": {
        "colab": {
          "base_uri": "https://localhost:8080/"
        },
        "id": "32ago0WCHy1B",
        "outputId": "6d9f2306-571a-436b-dd77-fb461f073db9"
      },
      "execution_count": 9,
      "outputs": [
        {
          "output_type": "stream",
          "name": "stdout",
          "text": [
            "{1, 2, 3}\n"
          ]
        }
      ]
    },
    {
      "cell_type": "markdown",
      "source": [
        "**Q14:** How does the “in” keyword work differently for lists and dictionaries?\n",
        "\n",
        "- In lists: in checks for a value.\n",
        "- In dictionaries: in checks for a key."
      ],
      "metadata": {
        "id": "VjkWfZ-rH1Ah"
      }
    },
    {
      "cell_type": "code",
      "source": [
        "# in Lists\n",
        "my_list = [1, 2, 3]\n",
        "print(2 in my_list)\n",
        "\n",
        "# in Dictionaries\n",
        "my_dict = {\"a\": 1, \"b\": 2}\n",
        "print(\"a\" in my_dict)     # True\n",
        "print(1 in my_dict)"
      ],
      "metadata": {
        "id": "WSjtxtycIIKq"
      },
      "execution_count": null,
      "outputs": []
    },
    {
      "cell_type": "markdown",
      "source": [
        "**Q15:** Can you modify the elements of a tuple? Explain why or why not.\n",
        "\n",
        "- No, you cannot modify the elements of a tuple in Python.\n",
        "\n",
        "- Why?\n",
        "Tuples are immutable, meaning once they are created, their elements cannot be changed, added, or removed.\n",
        "\n",
        "This design ensures data integrity, especially for constant or fixed data."
      ],
      "metadata": {
        "id": "efvswEKpIVHB"
      }
    },
    {
      "cell_type": "markdown",
      "source": [
        "**Q16:** What is a nested dictionary, and give an example of its use case?\n",
        "\n",
        " - A nested dictionary is a dictionary inside another dictionary.\n",
        " - It allows you to organize complex or hierarchical data."
      ],
      "metadata": {
        "id": "QEeB28L6IjJh"
      }
    },
    {
      "cell_type": "code",
      "source": [
        "students = {\n",
        "    \"Alice\": {\"age\": 20, \"grade\": \"A\"},\n",
        "    \"Bob\": {\"age\": 22, \"grade\": \"B\"}\n",
        "}\n",
        "\n",
        "print(students[\"Alice\"][\"grade\"])\n"
      ],
      "metadata": {
        "colab": {
          "base_uri": "https://localhost:8080/"
        },
        "id": "sId4v38BI0Zz",
        "outputId": "23a4b9dd-be75-4b9d-99f2-abd621854d68"
      },
      "execution_count": 10,
      "outputs": [
        {
          "output_type": "stream",
          "name": "stdout",
          "text": [
            "A\n"
          ]
        }
      ]
    },
    {
      "cell_type": "markdown",
      "source": [
        "**Q17:** Describe the time complexity of accessing elements in a dictionary.\n",
        "\n",
        "    - Average case: O(1) (constant time)\n",
        "Accessing a value by key is very fast due to the underlying hash table implementation.\n",
        "\n",
        "    - Worst case: O(n)\n",
        "Rare, occurs when many keys have hash collisions, causing lookups to degrade to a linear search.\n"
      ],
      "metadata": {
        "id": "fmeI-1uDI6QN"
      }
    },
    {
      "cell_type": "markdown",
      "source": [
        "**Q18:** In what situations are lists preferred over dictionaries?\n",
        "\n",
        "- Ordered data: When you need to maintain the order of items.\n",
        "\n",
        "- Sequential access: When you're looping over data by index or position.\n",
        "\n",
        "- Simple collections: When storing just values, not key-value pairs.\n",
        "\n",
        "- Memory efficiency: Lists use less memory than dictionaries for small datasets."
      ],
      "metadata": {
        "id": "qcNG4B-mJNOa"
      }
    },
    {
      "cell_type": "code",
      "source": [
        "fruits = [\"apple\", \"banana\", \"cherry\"]"
      ],
      "metadata": {
        "id": "tz73iMGiJbn5"
      },
      "execution_count": 11,
      "outputs": []
    },
    {
      "cell_type": "markdown",
      "source": [
        "**Q19:** Why are dictionaries considered unordered, and how does that affect data retrieval?\n",
        "\n",
        "- Internal storage: In earlier versions of Python (before 3.7), dictionaries didn't maintain any specific order of keys and values.\n",
        "\n",
        "- Hashing mechanism: Dictionaries store key-value pairs based on their hash values, which doesn't guarantee any order.\n",
        "\n",
        "- Effect on Data Retrieval:\n",
        "    - No order guarantee\n",
        "    - Fast Access"
      ],
      "metadata": {
        "id": "jmBJ5cXXJd_C"
      }
    },
    {
      "cell_type": "markdown",
      "source": [
        "**Q20:** Explain the difference between a list and a dictionary in terms of data retrieval.\n",
        "\n",
        "- List:\n",
        "\n",
        "  Indexed by position: Data is accessed via its index (numeric position).\n",
        "\n",
        "  Access time: Retrieving an element by index is O(1), but searching for a value is O(n) because you may need to loop through the entire list.\n",
        "\n",
        "  "
      ],
      "metadata": {
        "id": "rZSobNabJwfB"
      }
    },
    {
      "cell_type": "code",
      "source": [
        "my_list = [10, 20, 30]\n",
        "print(my_list[1])"
      ],
      "metadata": {
        "id": "Pg6e-GEBJ94B"
      },
      "execution_count": null,
      "outputs": []
    },
    {
      "cell_type": "markdown",
      "source": [
        "- Dictionary:\n",
        "\n",
        "  Indexed by key: Data is accessed via a key (not an index).\n",
        "\n",
        "  Access time: Retrieving a value by key is O(1) on average, thanks to the underlying hash table mechanism."
      ],
      "metadata": {
        "id": "r2SExdYmJ-xa"
      }
    },
    {
      "cell_type": "code",
      "source": [
        "my_dict = {\"a\": 10, \"b\": 20}\n",
        "print(my_dict[\"a\"])"
      ],
      "metadata": {
        "id": "Y4bG0s1BKH0R"
      },
      "execution_count": null,
      "outputs": []
    },
    {
      "cell_type": "markdown",
      "source": [
        "**Question 1**\n",
        "Write a code to create a string with your name and print it."
      ],
      "metadata": {
        "id": "yfwRahTikHd4"
      }
    },
    {
      "cell_type": "code",
      "source": [
        "my_name = \"Tanuj Singh\"\n",
        "print(f\"My Name is {my_name}\")"
      ],
      "metadata": {
        "colab": {
          "base_uri": "https://localhost:8080/"
        },
        "id": "gmBRreT8kGF4",
        "outputId": "8c071eec-b84d-453f-a23b-ae994489b2a7"
      },
      "execution_count": null,
      "outputs": [
        {
          "output_type": "stream",
          "name": "stdout",
          "text": [
            "My Name is Tanuj Singh\n"
          ]
        }
      ]
    },
    {
      "cell_type": "markdown",
      "source": [
        "**Question 2**\n",
        "Write a code to find the length of the string \"Hello World\""
      ],
      "metadata": {
        "id": "7At0hVlBkp7E"
      }
    },
    {
      "cell_type": "code",
      "source": [
        "word = \"Hello World\"\n",
        "length = len(word)\n",
        "print(f\"Length of string : {length}\")"
      ],
      "metadata": {
        "colab": {
          "base_uri": "https://localhost:8080/"
        },
        "id": "a9ABLW3_khIh",
        "outputId": "fd07d47d-fba3-49d8-9a1b-ae0d1bf2cbdc"
      },
      "execution_count": null,
      "outputs": [
        {
          "output_type": "stream",
          "name": "stdout",
          "text": [
            "Length of string : 11\n"
          ]
        }
      ]
    },
    {
      "cell_type": "markdown",
      "source": [
        "**Question 3**\n",
        "Write a code to slice the first 3 characters from the string \"Python Programming\""
      ],
      "metadata": {
        "id": "JObjWgSOlaJa"
      }
    },
    {
      "cell_type": "code",
      "source": [
        "string = \"Python Programming\"\n",
        "slicing = string[:3]\n",
        "print(f\"The first 3 characters : {slicing} \")"
      ],
      "metadata": {
        "colab": {
          "base_uri": "https://localhost:8080/"
        },
        "id": "2wCl9MiklNwb",
        "outputId": "067113ad-a779-4770-b291-b1c5c27c4e02"
      },
      "execution_count": null,
      "outputs": [
        {
          "output_type": "stream",
          "name": "stdout",
          "text": [
            "The first 3 characters : Pyt \n"
          ]
        }
      ]
    },
    {
      "cell_type": "markdown",
      "source": [
        "**Question 4**\n",
        "Write a code to convert the string \"hello\" to uppercase."
      ],
      "metadata": {
        "id": "_f1KkNYjnGLx"
      }
    },
    {
      "cell_type": "code",
      "source": [
        "string = \"hello\"\n",
        "Caps = string.upper()\n",
        "print(f\"Uppercase of string : {Caps}\")"
      ],
      "metadata": {
        "colab": {
          "base_uri": "https://localhost:8080/"
        },
        "id": "n0X0pi_0mjyq",
        "outputId": "0a994b25-c217-4039-fe1e-db6f63c407c0"
      },
      "execution_count": null,
      "outputs": [
        {
          "output_type": "stream",
          "name": "stdout",
          "text": [
            "Uppercase of string : HELLO\n"
          ]
        }
      ]
    },
    {
      "cell_type": "markdown",
      "source": [
        "**Question 5**\n",
        "Write a code to replace the word \"apple\" with \"orange\" in the string \"I like apple\"."
      ],
      "metadata": {
        "id": "9qEp8sbwovPJ"
      }
    },
    {
      "cell_type": "code",
      "source": [
        "sentence = \"I like apple.\"\n",
        "replace_word = sentence.replace(\"apple\", \"orange\")\n",
        "print(replace_word)"
      ],
      "metadata": {
        "colab": {
          "base_uri": "https://localhost:8080/"
        },
        "id": "utax6XzSnF7y",
        "outputId": "74f7f5ca-fd19-4ce0-eba6-792ee034b221"
      },
      "execution_count": null,
      "outputs": [
        {
          "output_type": "stream",
          "name": "stdout",
          "text": [
            "I like orange.\n"
          ]
        }
      ]
    },
    {
      "cell_type": "markdown",
      "source": [
        "**Question 6**\n",
        "Write a code to create a list with numbers 1 to 5 and print it."
      ],
      "metadata": {
        "id": "iPZtyCtQq4Ao"
      }
    },
    {
      "cell_type": "code",
      "source": [
        "nos = list(range(1, 6))\n",
        "print(f\"List of Numbers : {nos}\")"
      ],
      "metadata": {
        "colab": {
          "base_uri": "https://localhost:8080/"
        },
        "id": "YVNhVbssqIuN",
        "outputId": "f8c2ffed-0943-441d-8a43-8d7f2a55a78e"
      },
      "execution_count": null,
      "outputs": [
        {
          "output_type": "stream",
          "name": "stdout",
          "text": [
            "List of Numbers : [1, 2, 3, 4, 5]\n"
          ]
        }
      ]
    },
    {
      "cell_type": "markdown",
      "source": [
        "**Question 7**\n",
        "Write a code to append the number 10 to the list [1, 2, 3, 4]."
      ],
      "metadata": {
        "id": "EbDYUdO8rhZ_"
      }
    },
    {
      "cell_type": "code",
      "source": [
        "number_list = [1, 2, 3, 4]\n",
        "number_list.append(10)\n",
        "print(f\"List Updated : {number_list}\")\n"
      ],
      "metadata": {
        "colab": {
          "base_uri": "https://localhost:8080/"
        },
        "id": "KDndAOltrrB4",
        "outputId": "4bd34d7c-5a21-4eff-a260-06d72ae309d5"
      },
      "execution_count": null,
      "outputs": [
        {
          "output_type": "stream",
          "name": "stdout",
          "text": [
            "List Updated : [1, 2, 3, 4, 10]\n"
          ]
        }
      ]
    },
    {
      "cell_type": "markdown",
      "source": [
        "**Question 8**\n",
        "Write a code to remove the number 3 from the list [1, 2, 3, 4, 5]."
      ],
      "metadata": {
        "id": "UJnClrs6tKQ_"
      }
    },
    {
      "cell_type": "code",
      "source": [
        "number_list = [1, 2, 3, 4]\n",
        "number_list.remove(3)\n",
        "print(f\"List Updated  : {number_list}\")\n"
      ],
      "metadata": {
        "colab": {
          "base_uri": "https://localhost:8080/"
        },
        "id": "tI8ImACJsYkN",
        "outputId": "1e828b5b-f814-4d1a-c100-0d7de6f21e29"
      },
      "execution_count": null,
      "outputs": [
        {
          "output_type": "stream",
          "name": "stdout",
          "text": [
            "List Updated  : [1, 2, 4]\n"
          ]
        }
      ]
    },
    {
      "cell_type": "markdown",
      "source": [
        "**Question 9**\n",
        "Write a code to access the second element in the list ['a', 'b', 'c', 'd']."
      ],
      "metadata": {
        "id": "fpFmornxt9-b"
      }
    },
    {
      "cell_type": "code",
      "source": [
        "letter =  ['a', 'b', 'c', 'd']\n",
        "second_element = letter[1]\n",
        "print(f\"second element : {second_element}\")"
      ],
      "metadata": {
        "colab": {
          "base_uri": "https://localhost:8080/"
        },
        "id": "99CXK4jzuFjd",
        "outputId": "7e56b135-4674-496d-ab85-56a3b33096da"
      },
      "execution_count": null,
      "outputs": [
        {
          "output_type": "stream",
          "name": "stdout",
          "text": [
            "second element : b\n"
          ]
        }
      ]
    },
    {
      "cell_type": "markdown",
      "source": [
        "**Question 10**\n",
        "Write a code to reverse the list [10, 20, 30, 40, 50]"
      ],
      "metadata": {
        "id": "G5ZlNvQ8u12N"
      }
    },
    {
      "cell_type": "code",
      "source": [
        "no_list = [10, 20, 30, 40, 50]\n",
        "no_list.reverse()\n",
        "print(f\"Reversed List : {no_list}\")"
      ],
      "metadata": {
        "colab": {
          "base_uri": "https://localhost:8080/"
        },
        "id": "iKZa5dkVuYBb",
        "outputId": "e30b819f-064c-45ef-aa3a-3a4a0b795fe1"
      },
      "execution_count": null,
      "outputs": [
        {
          "output_type": "stream",
          "name": "stdout",
          "text": [
            "Reversed List : [50, 40, 30, 20, 10]\n"
          ]
        }
      ]
    },
    {
      "cell_type": "markdown",
      "source": [
        "**Question 11**\n",
        "Write a code to create a tuple with the elements 100, 200, 300 and print it."
      ],
      "metadata": {
        "id": "8RAtBK0pv_cM"
      }
    },
    {
      "cell_type": "code",
      "source": [
        "tup = (100, 200, 300)\n",
        "print(tup)\n",
        "print(type(tup))"
      ],
      "metadata": {
        "colab": {
          "base_uri": "https://localhost:8080/"
        },
        "id": "Ra5WA20NwH5c",
        "outputId": "23beef7f-8539-4d5c-d129-ac09affff32d"
      },
      "execution_count": null,
      "outputs": [
        {
          "output_type": "stream",
          "name": "stdout",
          "text": [
            "(100, 200, 300)\n",
            "<class 'tuple'>\n"
          ]
        }
      ]
    },
    {
      "cell_type": "code",
      "source": [],
      "metadata": {
        "id": "JBdxq5SkwgAK"
      },
      "execution_count": null,
      "outputs": []
    },
    {
      "cell_type": "markdown",
      "source": [
        "**Question 12**\n",
        "Write a code to access the second-to-last element of the tuple ('red', 'green', 'blue', 'yellow')."
      ],
      "metadata": {
        "id": "o1Lk7gV8wo5U"
      }
    },
    {
      "cell_type": "code",
      "source": [
        "colors =  ('red', 'green', 'blue', 'yellow')\n",
        "second_last = colors[-2]\n",
        "\n",
        "print(f\"he second-to-last element of the tuple : {second_last}\")\n"
      ],
      "metadata": {
        "colab": {
          "base_uri": "https://localhost:8080/"
        },
        "id": "FKJyN42qwwDK",
        "outputId": "50d87843-08be-44cd-a475-b2d9f7f84e39"
      },
      "execution_count": null,
      "outputs": [
        {
          "output_type": "stream",
          "name": "stdout",
          "text": [
            "he second-to-last element of the tuple : blue\n"
          ]
        }
      ]
    },
    {
      "cell_type": "markdown",
      "source": [
        "**Question 13**\n",
        "Write a code to find the minimum number in the tuple (10, 20, 5, 15)."
      ],
      "metadata": {
        "id": "jgVdtcuPx0hb"
      }
    },
    {
      "cell_type": "code",
      "source": [
        "numbers =  (10, 20, 5, 15)\n",
        "minimum = min(numbers)\n",
        "\n",
        "print(f\"Minimum Number : {minimum}\")"
      ],
      "metadata": {
        "colab": {
          "base_uri": "https://localhost:8080/"
        },
        "id": "nloGeX39x-LE",
        "outputId": "37d3ba92-49f9-4498-c519-08314bfb1994"
      },
      "execution_count": null,
      "outputs": [
        {
          "output_type": "stream",
          "name": "stdout",
          "text": [
            "Minimum Number : 5\n"
          ]
        }
      ]
    },
    {
      "cell_type": "markdown",
      "source": [
        "**Question 14**\n",
        "Write a code to find the index of the element \"cat\" in the tuple ('dog', 'cat', 'rabbit')."
      ],
      "metadata": {
        "id": "ntSoxd5wyuyL"
      }
    },
    {
      "cell_type": "code",
      "source": [
        "animals =  ('dog', 'cat', 'rabbit')\n",
        "cat_index = animals.index(\"cat\")\n",
        "print(f\" index of the element 'cat' : {cat_index} \")"
      ],
      "metadata": {
        "colab": {
          "base_uri": "https://localhost:8080/"
        },
        "id": "lamVYfiLyp_o",
        "outputId": "4c9d064e-72e1-4cc6-b95c-9b6fdeba0736"
      },
      "execution_count": null,
      "outputs": [
        {
          "output_type": "stream",
          "name": "stdout",
          "text": [
            " index of the element 'cat' : 1 \n"
          ]
        }
      ]
    },
    {
      "cell_type": "markdown",
      "source": [
        "**Question 15**\n",
        "Write a code to create a tuple containing three different fruits and check if \"kiwi\" is in it."
      ],
      "metadata": {
        "id": "AbsuTjD0zZOg"
      }
    },
    {
      "cell_type": "code",
      "source": [
        "fruits = (\"mango\", \"banana\", \"watermelon\", \"kiwi\", \"orange\", \"grapes\")\n",
        "\n",
        "if \"kiwi\" in fruits:\n",
        "  print(\"Kiwi in the tuple.\")\n",
        "else:\n",
        "  print(\"Kiwi not in the tuple.\")"
      ],
      "metadata": {
        "colab": {
          "base_uri": "https://localhost:8080/"
        },
        "id": "SFZvtybW0MAM",
        "outputId": "04206f8c-ed26-4774-f277-6af653822de5"
      },
      "execution_count": null,
      "outputs": [
        {
          "output_type": "stream",
          "name": "stdout",
          "text": [
            "Kiwi in the tuple.\n"
          ]
        }
      ]
    },
    {
      "cell_type": "markdown",
      "source": [
        "**Question 16**\n",
        "Write a code to create a set with the elements 'a', 'b', 'c' and print it."
      ],
      "metadata": {
        "id": "hQLnhyP88Ex2"
      }
    },
    {
      "cell_type": "code",
      "source": [
        "elements = {'a', 'b', 'c'}\n",
        "print(f\"set : {elements}\")"
      ],
      "metadata": {
        "id": "l4HEUUXN1abo",
        "colab": {
          "base_uri": "https://localhost:8080/"
        },
        "outputId": "f90b2347-ff6e-4399-cbf3-102a236670d9"
      },
      "execution_count": null,
      "outputs": [
        {
          "output_type": "stream",
          "name": "stdout",
          "text": [
            "set : {'c', 'b', 'a'}\n"
          ]
        }
      ]
    },
    {
      "cell_type": "markdown",
      "source": [
        "**Question 17**\n",
        "Write a code to clear all elements from the set {1, 2, 3, 4, 5}."
      ],
      "metadata": {
        "id": "6os96lWa9Ohj"
      }
    },
    {
      "cell_type": "code",
      "source": [
        "numbers = {1, 2, 3, 4, 5}\n",
        "numbers.clear()\n",
        "print(numbers)"
      ],
      "metadata": {
        "colab": {
          "base_uri": "https://localhost:8080/"
        },
        "id": "-cJFV5tE83tQ",
        "outputId": "57317e63-6b67-4721-91ee-a91ebfedff60"
      },
      "execution_count": null,
      "outputs": [
        {
          "output_type": "stream",
          "name": "stdout",
          "text": [
            "set()\n"
          ]
        }
      ]
    },
    {
      "cell_type": "markdown",
      "source": [
        "**Question 18**\n",
        " Write a code to remove the element 4 from the set {1, 2, 3, 4}."
      ],
      "metadata": {
        "id": "zH3od2q9-Z34"
      }
    },
    {
      "cell_type": "code",
      "source": [
        "numbers = {1, 2, 3, 4}\n",
        "numbers.remove(4)\n",
        "print(numbers)"
      ],
      "metadata": {
        "colab": {
          "base_uri": "https://localhost:8080/"
        },
        "id": "blc1NC9K-PS-",
        "outputId": "2e82c6d1-2405-41c7-f7b6-14cca7d02f04"
      },
      "execution_count": null,
      "outputs": [
        {
          "output_type": "stream",
          "name": "stdout",
          "text": [
            "{1, 2, 3}\n"
          ]
        }
      ]
    },
    {
      "cell_type": "code",
      "source": [],
      "metadata": {
        "id": "ToJerSNQ-x1A"
      },
      "execution_count": null,
      "outputs": []
    },
    {
      "cell_type": "markdown",
      "source": [
        "**Question 19**\n",
        "Write a code to find the union of two sets {1, 2, 3} and {3, 4, 5}."
      ],
      "metadata": {
        "id": "5h51YGk7-1sa"
      }
    },
    {
      "cell_type": "code",
      "source": [
        "set1 = {1, 2, 3}\n",
        "set2 = {3, 4, 5}\n",
        "union = set1.union(set2)\n",
        "\n",
        "print(f\"union of 2 sets : {union} \")"
      ],
      "metadata": {
        "colab": {
          "base_uri": "https://localhost:8080/"
        },
        "id": "ZtrmXkIb-69H",
        "outputId": "251931bc-23d6-4c90-a15d-5a934eb4a165"
      },
      "execution_count": null,
      "outputs": [
        {
          "output_type": "stream",
          "name": "stdout",
          "text": [
            "union of 2 sets : {1, 2, 3, 4, 5} \n"
          ]
        }
      ]
    },
    {
      "cell_type": "markdown",
      "source": [
        "**Question 20**\n",
        "Write a code to find the intersection of two sets {1, 2, 3} and {2, 3, 4}."
      ],
      "metadata": {
        "id": "ow2o_6fhAhYf"
      }
    },
    {
      "cell_type": "code",
      "source": [
        "set1 = {1, 2, 3}\n",
        "set2 = {2, 3, 4}\n",
        "intersection = set1.intersection(set2)\n",
        "\n",
        "print(f\"Intersection of 2 sets : {intersection} \")"
      ],
      "metadata": {
        "colab": {
          "base_uri": "https://localhost:8080/"
        },
        "id": "7AOb08op_jUI",
        "outputId": "cd2f54f6-6212-43be-b1b2-11b7195aaef8"
      },
      "execution_count": null,
      "outputs": [
        {
          "output_type": "stream",
          "name": "stdout",
          "text": [
            "Intersection of 2 sets : {2, 3} \n"
          ]
        }
      ]
    },
    {
      "cell_type": "markdown",
      "source": [
        "**Question 21**\n",
        "Write a code to create a dictionary with the keys \"name\", \"age\", and \"city\", and print it"
      ],
      "metadata": {
        "id": "iOb6hOMGA9DE"
      }
    },
    {
      "cell_type": "code",
      "source": [
        "info = {\n",
        "    \"name\" : \"Tanuj\",\n",
        "    \"age\" : 29,\n",
        "    \"city\" : \"Delhi\"\n",
        "\n",
        "}\n",
        "\n",
        "print(f\"Dictionary : {info}\")"
      ],
      "metadata": {
        "colab": {
          "base_uri": "https://localhost:8080/"
        },
        "id": "r8oPHEKaA54P",
        "outputId": "b2d9d9c0-d6d6-478c-9b7c-bb5ab9490137"
      },
      "execution_count": null,
      "outputs": [
        {
          "output_type": "stream",
          "name": "stdout",
          "text": [
            "Dictionary : {'name': 'Tanuj', 'age': 29, 'city': 'Delhi'}\n"
          ]
        }
      ]
    },
    {
      "cell_type": "markdown",
      "source": [
        "**Question 22**\n",
        "Write a code to add a new key-value pair \"country\": \"USA\" to the dictionary {'name': 'John', 'age': 25}."
      ],
      "metadata": {
        "id": "VVKzJGtdEQPC"
      }
    },
    {
      "cell_type": "code",
      "source": [
        "info = {\n",
        "    \"name\" : \"John\",\n",
        "    \"age\" : 25\n",
        "}\n",
        "\n",
        "info.update({\"Country\" : \"USA\"})\n",
        "\n",
        "print(f\"Dictionary : {info}\")"
      ],
      "metadata": {
        "colab": {
          "base_uri": "https://localhost:8080/"
        },
        "id": "CSJTaugCDQzR",
        "outputId": "b3d3f949-53b9-40cb-8102-462986034232"
      },
      "execution_count": null,
      "outputs": [
        {
          "output_type": "stream",
          "name": "stdout",
          "text": [
            "Dictionary : {'name': 'John', 'age': 25, 'Country': 'USA'}\n"
          ]
        }
      ]
    },
    {
      "cell_type": "markdown",
      "source": [
        "**Question 23**\n",
        "Write a code to access the value associated with the key \"name\" in the dictionary {'name': 'Alice', 'age': 30}"
      ],
      "metadata": {
        "id": "whpvF8k-FAQP"
      }
    },
    {
      "cell_type": "code",
      "source": [
        "info = {\n",
        "    \"name\" : \"Alice\",\n",
        "    \"age\" : 30\n",
        "}\n",
        "\n",
        "info.get(\"name\")"
      ],
      "metadata": {
        "colab": {
          "base_uri": "https://localhost:8080/",
          "height": 35
        },
        "id": "sSPTaoRLE78X",
        "outputId": "2bb710e5-90b5-4c09-af0c-c11be04b6956"
      },
      "execution_count": null,
      "outputs": [
        {
          "output_type": "execute_result",
          "data": {
            "text/plain": [
              "'Alice'"
            ],
            "application/vnd.google.colaboratory.intrinsic+json": {
              "type": "string"
            }
          },
          "metadata": {},
          "execution_count": 27
        }
      ]
    },
    {
      "cell_type": "markdown",
      "source": [
        "**Question 24**\n",
        "Write a code to remove the key \"age\" from the dictionary {'name': 'Bob', 'age': 22, 'city': 'New York'}."
      ],
      "metadata": {
        "id": "bZW2v6OkFnez"
      }
    },
    {
      "cell_type": "code",
      "source": [
        "person =  {\n",
        "    'name': 'Bob',\n",
        "    'age': 22,\n",
        "    'city': 'New York'\n",
        "}\n",
        "\n",
        "person.pop(\"age\")\n",
        "\n",
        "print(f\"updated dictionary : {person}\")"
      ],
      "metadata": {
        "colab": {
          "base_uri": "https://localhost:8080/"
        },
        "id": "ZDDiekOEFamw",
        "outputId": "53d4e99e-9298-4aca-f0c6-6174e4046971"
      },
      "execution_count": null,
      "outputs": [
        {
          "output_type": "stream",
          "name": "stdout",
          "text": [
            "updated dictionary : {'name': 'Bob', 'city': 'New York'}\n"
          ]
        }
      ]
    },
    {
      "cell_type": "markdown",
      "source": [
        "**Question 25**\n",
        "Write a code to check if the key \"city\" exists in the dictionary {'name': 'Alice', 'city': 'Paris'}."
      ],
      "metadata": {
        "id": "1FqPEUc0G7wz"
      }
    },
    {
      "cell_type": "code",
      "source": [
        "info = {\n",
        "    \"name\" : \"Alice\",\n",
        "    \"city\" : \"Paris\"\n",
        "}\n",
        "\n",
        "if \"city\" in info:\n",
        "  print(\"Key 'City' exits in the dictionary.\")\n",
        "else:\n",
        "  print(\"Key 'City' Doesn't exits in the dictionary.\")"
      ],
      "metadata": {
        "colab": {
          "base_uri": "https://localhost:8080/"
        },
        "id": "_ZU54XhlGd9P",
        "outputId": "8694e845-2e1d-499a-9043-78829117f70a"
      },
      "execution_count": null,
      "outputs": [
        {
          "output_type": "stream",
          "name": "stdout",
          "text": [
            "Key 'City' exits in the dictionary.\n"
          ]
        }
      ]
    },
    {
      "cell_type": "markdown",
      "source": [
        "**Question 26**\n",
        "Write a code to create a list, a tuple, and a dictionary, and print them all."
      ],
      "metadata": {
        "id": "eVdWBvyVIYFa"
      }
    },
    {
      "cell_type": "code",
      "source": [
        "# Create a list\n",
        "my_list = [1, 2, 3, 4, 5]\n",
        "\n",
        "# Create a tuple\n",
        "my_tuple = ('apple', 'banana', 'cherry')\n",
        "\n",
        "# Create a dictionary\n",
        "my_dict = {\n",
        "    'name': 'Alice',\n",
        "    'age': 30,\n",
        "    'city': 'Paris'\n",
        "}\n",
        "\n",
        "print(\"List:\", my_list)\n",
        "print(\"Tuple:\", my_tuple)\n",
        "print(\"Dictionary:\", my_dict)"
      ],
      "metadata": {
        "colab": {
          "base_uri": "https://localhost:8080/"
        },
        "id": "owMnP1yfH1Uw",
        "outputId": "6334f364-210d-4a9e-f846-6923f68cae98"
      },
      "execution_count": null,
      "outputs": [
        {
          "output_type": "stream",
          "name": "stdout",
          "text": [
            "List: [1, 2, 3, 4, 5]\n",
            "Tuple: ('apple', 'banana', 'cherry')\n",
            "Dictionary: {'name': 'Alice', 'age': 30, 'city': 'Paris'}\n"
          ]
        }
      ]
    },
    {
      "cell_type": "markdown",
      "source": [
        "**Question 27**\n",
        "Write a code to create a list of 5 random numbers between 1 and 100, sort it in ascending order, and print the result.(replaced)."
      ],
      "metadata": {
        "id": "TlvLg3z_JJ7y"
      }
    },
    {
      "cell_type": "code",
      "source": [
        "numbers = [18, 7, 98, 45, 63]\n",
        "numbers.sort()\n",
        "\n",
        "print(\"Sorted numbers:\", numbers)"
      ],
      "metadata": {
        "colab": {
          "base_uri": "https://localhost:8080/"
        },
        "id": "aQekwm4sI6eQ",
        "outputId": "a6938dcc-0cf0-4405-e1c3-543bf93813b6"
      },
      "execution_count": null,
      "outputs": [
        {
          "output_type": "stream",
          "name": "stdout",
          "text": [
            "Sorted numbers: [7, 18, 45, 63, 98]\n"
          ]
        }
      ]
    },
    {
      "cell_type": "markdown",
      "source": [
        "**Question 28**\n",
        "Write a code to create a list with strings and print the element at the third index."
      ],
      "metadata": {
        "id": "-gPQtyeqKTBK"
      }
    },
    {
      "cell_type": "code",
      "source": [
        "my_list = [1, 2, 'apple', 'banana', 5]\n",
        "my_list[3]"
      ],
      "metadata": {
        "colab": {
          "base_uri": "https://localhost:8080/",
          "height": 35
        },
        "id": "NjBL17HOKMzQ",
        "outputId": "5e72fb0e-8dd3-49cc-d963-ac30893e4ccb"
      },
      "execution_count": null,
      "outputs": [
        {
          "output_type": "execute_result",
          "data": {
            "text/plain": [
              "'banana'"
            ],
            "application/vnd.google.colaboratory.intrinsic+json": {
              "type": "string"
            }
          },
          "metadata": {},
          "execution_count": 45
        }
      ]
    },
    {
      "cell_type": "markdown",
      "source": [
        "**Question 29**\n",
        "Write a code to combine two dictionaries into one and print the result."
      ],
      "metadata": {
        "id": "jb75X4RQLtjz"
      }
    },
    {
      "cell_type": "code",
      "source": [
        "info1 = {\n",
        "    \"name\" : \"Alice\",\n",
        "    \"city\" : \"Paris\"\n",
        "}\n",
        "\n",
        "info2 =  {\n",
        "    'name': 'Bob',\n",
        "    'age': 22,\n",
        "    'city': 'New York'\n",
        "}\n",
        "\n",
        "combine_info = info1 | info2\n",
        "\n",
        "print(f\"Combined Dictionary : {combine_info}\")"
      ],
      "metadata": {
        "colab": {
          "base_uri": "https://localhost:8080/"
        },
        "id": "1_P-5IJ-LQYI",
        "outputId": "ab3cfadf-ff43-4235-cd45-39583fe53484"
      },
      "execution_count": null,
      "outputs": [
        {
          "output_type": "stream",
          "name": "stdout",
          "text": [
            "Combined Dictionary : {'name': 'Bob', 'city': 'New York', 'age': 22}\n"
          ]
        }
      ]
    },
    {
      "cell_type": "markdown",
      "source": [
        "**Question 30**\n",
        "Write a code to convert a list of strings into a set."
      ],
      "metadata": {
        "id": "32pgLPLrNMqR"
      }
    },
    {
      "cell_type": "code",
      "source": [
        "fruits = [\"apple\", \"banana\", \"cherry\", \"apple\", \"banana\"]\n",
        "print(f\"Fruits : {set(fruits)}\")"
      ],
      "metadata": {
        "colab": {
          "base_uri": "https://localhost:8080/"
        },
        "id": "zUeKEwDhMy0g",
        "outputId": "efbd129e-0332-4fde-baa6-8357c2ac2a46"
      },
      "execution_count": null,
      "outputs": [
        {
          "output_type": "stream",
          "name": "stdout",
          "text": [
            "Fruits : {'cherry', 'banana', 'apple'}\n"
          ]
        }
      ]
    },
    {
      "cell_type": "code",
      "source": [],
      "metadata": {
        "id": "AUrVIzLuNpNY"
      },
      "execution_count": null,
      "outputs": []
    }
  ]
}